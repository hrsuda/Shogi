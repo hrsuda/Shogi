{
 "cells": [
  {
   "cell_type": "code",
   "execution_count": 1,
   "id": "86ce596a",
   "metadata": {},
   "outputs": [],
   "source": [
    "from shogi_2 import *"
   ]
  },
  {
   "cell_type": "code",
   "execution_count": 2,
   "id": "9752e83c",
   "metadata": {},
   "outputs": [],
   "source": [
    "pieces = [OU(init_position=[5,9], owner=True),\n",
    "           OU(init_position=[5,1], owner=False),\n",
    "           KIN(init_position=[4,9], owner=True),\n",
    "           KIN(init_position=[6,9], owner=True),\n",
    "           KIN(init_position=[4,1], owner=False),\n",
    "           KIN(init_position=[6,1], owner=False),\n",
    "           GIN(init_position=[3,9], owner=True),\n",
    "           GIN(init_position=[7,9], owner=True),\n",
    "           GIN(init_position=[3,1], owner=False),\n",
    "           GIN(init_position=[7,1], owner=False),\n",
    "           KEIMA(init_position=[2,9], owner=True),\n",
    "           KEIMA(init_position=[8,9], owner=True),\n",
    "           KEIMA(init_position=[2,1], owner=False),\n",
    "           KEIMA(init_position=[8,1], owner=False),\n",
    "           KYO(init_position=[1,9], owner=True),\n",
    "           KYO(init_position=[9,9], owner=True),\n",
    "           KYO(init_position=[1,1], owner=False),\n",
    "           KYO(init_position=[9,1], owner=False),\n",
    "           HISHA(init_position=[2,8], owner=True),\n",
    "           HISHA(init_position=[8,2], owner=False),\n",
    "           KAKU(init_position=[8,8], owner=True),\n",
    "           KAKU(init_position=[2,2], owner=False),\n",
    "           FU(init_position=[1,7], owner=True),\n",
    "           FU(init_position=[2,7], owner=True),\n",
    "           FU(init_position=[3,7], owner=True),\n",
    "           FU(init_position=[4,7], owner=True),\n",
    "           FU(init_position=[5,7], owner=True),\n",
    "           FU(init_position=[6,7], owner=True),\n",
    "           FU(init_position=[7,7], owner=True),\n",
    "           FU(init_position=[8,7], owner=True),\n",
    "           FU(init_position=[9,7], owner=True),\n",
    "           FU(init_position=[1,3], owner=False),\n",
    "           FU(init_position=[2,3], owner=False),\n",
    "           FU(init_position=[3,3], owner=False),\n",
    "           FU(init_position=[4,3], owner=False),\n",
    "           FU(init_position=[5,3], owner=False),\n",
    "           FU(init_position=[6,3], owner=False),\n",
    "           FU(init_position=[7,3], owner=False),\n",
    "           FU(init_position=[8,3], owner=False),\n",
    "           FU(init_position=[9,3], owner=False),\n",
    "           ]\n"
   ]
  },
  {
   "cell_type": "code",
   "execution_count": 3,
   "id": "86f55efb",
   "metadata": {},
   "outputs": [],
   "source": [
    "B = Board(pieces)"
   ]
  },
  {
   "cell_type": "code",
   "execution_count": 4,
   "id": "dd4abe64",
   "metadata": {},
   "outputs": [],
   "source": [
    "out = B.read_file(\"../../kifu_floodgate/wdoor2016/2016/wdoor+floodgate-21600-60+6h_human+YssF_6t_x1+20160101110005.csa\")"
   ]
  },
  {
   "cell_type": "code",
   "execution_count": 5,
   "id": "98a3d6b2",
   "metadata": {},
   "outputs": [
    {
     "data": {
      "text/plain": [
       "array([False,  True,  True,  True, False, False,  True,  True,  True,\n",
       "        True,  True,  True,  True,  True,  True,  True,  True,  True,\n",
       "        True, False,  True,  True,  True,  True, False,  True,  True,\n",
       "        True,  True,  True,  True,  True,  True, False,  True,  True,\n",
       "        True,  True,  True, False,  True,  True,  True,  True,  True,\n",
       "        True,  True,  True,  True,  True,  True,  True,  True,  True,\n",
       "        True,  True,  True,  True,  True,  True,  True,  True,  True,\n",
       "        True,  True,  True,  True,  True,  True,  True,  True,  True,\n",
       "        True, False,  True,  True,  True,  True,  True,  True,  True,\n",
       "        True,  True,  True,  True,  True,  True,  True,  True,  True,\n",
       "        True,  True,  True,  True,  True,  True,  True,  True,  True,\n",
       "        True,  True,  True,  True,  True,  True,  True,  True,  True,\n",
       "        True,  True,  True,  True,  True,  True,  True,  True,  True,\n",
       "        True,  True,  True,  True])"
      ]
     },
     "execution_count": 5,
     "metadata": {},
     "output_type": "execute_result"
    }
   ],
   "source": [
    "out[0][1] == out[0][10]\n"
   ]
  },
  {
   "cell_type": "code",
   "execution_count": 6,
   "id": "19c5269a",
   "metadata": {},
   "outputs": [
    {
     "data": {
      "text/plain": [
       "array([-1, 59, 51, 49, 69, 41, 61, 39, 79, 31, 71, 29, 89, 21, 81, 19, 99,\n",
       "       11, 91, 28, 82, 88, 22, 17, 27, 37, 47, 57, 67, 76, 87, 97, 13, 23,\n",
       "       33, 43, 53, 63, 73, 83, 93,  1,  0,  1,  1,  0,  0,  1,  1,  0,  0,\n",
       "        1,  1,  0,  0,  1,  1,  0,  0,  1,  0,  1,  0,  1,  1,  1,  1,  1,\n",
       "        1,  1,  1,  1,  0,  0,  0,  0,  0,  0,  0,  0,  0,  0,  0,  0,  0,\n",
       "        0,  0,  0,  0,  0,  0,  0,  0,  0,  0,  0,  0,  0,  0,  0,  0,  0,\n",
       "        0,  0,  0,  0,  0,  0,  0,  0,  0,  0,  0,  0,  0,  0,  0,  0,  0,\n",
       "        0,  0], dtype=int8)"
      ]
     },
     "execution_count": 6,
     "metadata": {},
     "output_type": "execute_result"
    }
   ],
   "source": [
    "out[0][0]"
   ]
  },
  {
   "cell_type": "code",
   "execution_count": 5,
   "id": "1d325d20",
   "metadata": {},
   "outputs": [],
   "source": [
    "p = B.pieces"
   ]
  },
  {
   "cell_type": "code",
   "execution_count": 7,
   "id": "4c3c893e",
   "metadata": {},
   "outputs": [
    {
     "data": {
      "text/plain": [
       "array([ 0., 58., 41., 49., 78., 32., 51., 38., 79., 42., 62., 37., 89.,\n",
       "       21., 81., 19., 99., 11., 91., 34., 86., 88., 33., 17., 82., 36.,\n",
       "       47., 57., 67., 76.,  0., 97., 13.,  0.,  0., 43., 53., 63., 73.,\n",
       "        0., 93.,  1.,  0.,  1.,  1.,  0.,  0.,  1.,  1.,  0.,  0.,  1.,\n",
       "        1.,  0.,  0.,  1.,  1.,  0.,  0.,  1.,  0.,  1.,  0.,  1.,  1.,\n",
       "        1.,  1.,  1.,  1.,  1.,  1.,  1.,  0.,  1.,  1.,  0.,  0.,  0.,\n",
       "        0.,  1.,  0.,  0.,  0.,  0.,  0.,  0.,  0.,  0.,  0.,  0.,  0.,\n",
       "        0.,  0.,  0.,  0.,  0.,  0.,  0.,  0.,  0.,  0.,  0.,  0.,  0.,\n",
       "        0.,  0.,  0.,  0.,  0.,  0.,  0.,  0.,  0.,  0.,  0.,  0.,  0.,\n",
       "        0.,  0.,  0.,  0.])"
      ]
     },
     "execution_count": 7,
     "metadata": {},
     "output_type": "execute_result"
    }
   ],
   "source": [
    "B.out_data"
   ]
  },
  {
   "cell_type": "code",
   "execution_count": 8,
   "id": "71173dad",
   "metadata": {},
   "outputs": [
    {
     "data": {
      "text/plain": [
       "array([58., 41., 49., 78., 32., 51., 38., 79., 42., 62., 37., 89., 21.,\n",
       "       81., 19., 99., 11., 91., 34., 86., 88., 33., 17., 82., 36., 47.,\n",
       "       57., 67., 76.,  0., 97., 13.,  0.,  0., 43., 53., 63., 73.,  0.,\n",
       "       93.])"
      ]
     },
     "execution_count": 8,
     "metadata": {},
     "output_type": "execute_result"
    }
   ],
   "source": [
    "B.array_position[:,0] * 10 + B.array_position[:,1]"
   ]
  },
  {
   "cell_type": "code",
   "execution_count": 12,
   "id": "c6c2d18b",
   "metadata": {},
   "outputs": [
    {
     "data": {
      "text/plain": [
       "array([53., 37., 45., 71., 29., 46., 35., 72., 38., 56., 34., 81., 19.,\n",
       "       73., 18., 90., 10., 82., 31., 78., 80., 30., 16., 74., 33., 43.,\n",
       "       52., 61., 69.,  0., 88., 12.,  0.,  0., 39., 48., 57., 66.,  0.,\n",
       "       84.])"
      ]
     },
     "execution_count": 12,
     "metadata": {},
     "output_type": "execute_result"
    }
   ],
   "source": [
    "B.out_data[1:41]"
   ]
  },
  {
   "cell_type": "code",
   "execution_count": 14,
   "id": "8997a60f",
   "metadata": {},
   "outputs": [
    {
     "data": {
      "text/plain": [
       "array([5., 4., 4., 7., 3., 5., 3., 7., 4., 6., 3., 8., 2., 8., 1., 9., 1.,\n",
       "       9., 3., 8., 8., 3., 1., 8., 3., 4., 5., 6., 7., 0., 9., 1., 0., 0.,\n",
       "       4., 5., 6., 7., 0., 9.])"
      ]
     },
     "execution_count": 14,
     "metadata": {},
     "output_type": "execute_result"
    }
   ],
   "source": [
    "B.array_position[:,0]"
   ]
  },
  {
   "cell_type": "code",
   "execution_count": 15,
   "id": "0deb5272",
   "metadata": {},
   "outputs": [
    {
     "data": {
      "text/plain": [
       "array([[5., 8.],\n",
       "       [4., 1.],\n",
       "       [4., 9.],\n",
       "       [7., 8.],\n",
       "       [3., 2.],\n",
       "       [5., 1.],\n",
       "       [3., 8.],\n",
       "       [7., 9.],\n",
       "       [4., 2.],\n",
       "       [6., 2.],\n",
       "       [3., 7.],\n",
       "       [8., 9.],\n",
       "       [2., 1.],\n",
       "       [8., 1.],\n",
       "       [1., 9.],\n",
       "       [9., 9.],\n",
       "       [1., 1.],\n",
       "       [9., 1.],\n",
       "       [3., 4.],\n",
       "       [8., 6.],\n",
       "       [8., 8.],\n",
       "       [3., 3.],\n",
       "       [1., 7.],\n",
       "       [8., 2.],\n",
       "       [3., 6.],\n",
       "       [4., 7.],\n",
       "       [5., 7.],\n",
       "       [6., 7.],\n",
       "       [7., 6.],\n",
       "       [0., 0.],\n",
       "       [9., 7.],\n",
       "       [1., 3.],\n",
       "       [0., 0.],\n",
       "       [0., 0.],\n",
       "       [4., 3.],\n",
       "       [5., 3.],\n",
       "       [6., 3.],\n",
       "       [7., 3.],\n",
       "       [0., 0.],\n",
       "       [9., 3.]])"
      ]
     },
     "execution_count": 15,
     "metadata": {},
     "output_type": "execute_result"
    }
   ],
   "source": [
    "B.array_position"
   ]
  },
  {
   "cell_type": "code",
   "execution_count": 16,
   "id": "f1da1ae0",
   "metadata": {},
   "outputs": [
    {
     "data": {
      "text/plain": [
       "array(['O', 'O', 'K', 'K', 'K', 'K', 'G', 'G', 'G', 'G', 'K', 'K', 'K',\n",
       "       'K', 'K', 'K', 'K', 'K', 'H', 'H', 'K', 'K', 'F', 'F', 'F', 'F',\n",
       "       'F', 'F', 'F', 'F', 'F', 'F', 'F', 'F', 'F', 'F', 'F', 'F', 'F',\n",
       "       'F'], dtype='<U1')"
      ]
     },
     "execution_count": 16,
     "metadata": {},
     "output_type": "execute_result"
    }
   ],
   "source": [
    "B.array_name"
   ]
  },
  {
   "cell_type": "code",
   "execution_count": null,
   "id": "860b10ab",
   "metadata": {},
   "outputs": [],
   "source": []
  }
 ],
 "metadata": {
  "kernelspec": {
   "display_name": "Python 3 (ipykernel)",
   "language": "python",
   "name": "python3"
  },
  "language_info": {
   "codemirror_mode": {
    "name": "ipython",
    "version": 3
   },
   "file_extension": ".py",
   "mimetype": "text/x-python",
   "name": "python",
   "nbconvert_exporter": "python",
   "pygments_lexer": "ipython3",
   "version": "3.9.12"
  }
 },
 "nbformat": 4,
 "nbformat_minor": 5
}
