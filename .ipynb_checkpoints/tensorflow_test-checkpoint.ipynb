{
 "cells": [
  {
   "cell_type": "code",
   "execution_count": 1,
   "id": "86ce596a",
   "metadata": {},
   "outputs": [],
   "source": [
    "from shogi_2 import *\n",
    "import files\n",
    "import pickle"
   ]
  },
  {
   "cell_type": "code",
   "execution_count": 2,
   "id": "9752e83c",
   "metadata": {},
   "outputs": [],
   "source": [
    "pieces = [OU(init_position=(5,9), owner=True),\n",
    "           OU(init_position=(5,1), owner=False),\n",
    "           KIN(init_position=(4,9), owner=True),\n",
    "           KIN(init_position=(6,9), owner=True),\n",
    "           KIN(init_position=(4,1), owner=False),\n",
    "           KIN(init_position=(6,1), owner=False),\n",
    "           GIN(init_position=(3,9), owner=True),\n",
    "           GIN(init_position=(7,9), owner=True),\n",
    "           GIN(init_position=(3,1), owner=False),\n",
    "           GIN(init_position=(7,1), owner=False),\n",
    "           KEIMA(init_position=(2,9), owner=True),\n",
    "           KEIMA(init_position=(8,9), owner=True),\n",
    "           KEIMA(init_position=(2,1), owner=False),\n",
    "           KEIMA(init_position=(8,1), owner=False),\n",
    "           KYO(init_position=(1,9), owner=True),\n",
    "           KYO(init_position=(9,9), owner=True),\n",
    "           KYO(init_position=(1,1), owner=False),\n",
    "           KYO(init_position=(9,1), owner=False),\n",
    "           HISHA(init_position=(2,8), owner=True),\n",
    "           HISHA(init_position=(8,2), owner=False),\n",
    "           KAKU(init_position=(8,8), owner=True),\n",
    "           KAKU(init_position=(2,2), owner=False),\n",
    "           FU(init_position=(1,7), owner=True),\n",
    "           FU(init_position=(2,7), owner=True),\n",
    "           FU(init_position=(3,7), owner=True),\n",
    "           FU(init_position=(4,7), owner=True),\n",
    "           FU(init_position=(5,7), owner=True),\n",
    "           FU(init_position=(6,7), owner=True),\n",
    "           FU(init_position=(7,7), owner=True),\n",
    "           FU(init_position=(8,7), owner=True),\n",
    "           FU(init_position=(9,7), owner=True),\n",
    "           FU(init_position=(1,3), owner=False),\n",
    "           FU(init_position=(2,3), owner=False),\n",
    "           FU(init_position=(3,3), owner=False),\n",
    "           FU(init_position=(4,3), owner=False),\n",
    "           FU(init_position=(5,3), owner=False),\n",
    "           FU(init_position=(6,3), owner=False),\n",
    "           FU(init_position=(7,3), owner=False),\n",
    "           FU(init_position=(8,3), owner=False),\n",
    "           FU(init_position=(9,3), owner=False),\n",
    "          ]\n"
   ]
  },
  {
   "cell_type": "code",
   "execution_count": 3,
   "id": "86f55efb",
   "metadata": {},
   "outputs": [],
   "source": [
    "B = Board(pieces)"
   ]
  },
  {
   "cell_type": "code",
   "execution_count": 4,
   "id": "e668d064",
   "metadata": {
    "scrolled": true
   },
   "outputs": [
    {
     "name": "stdout",
     "output_type": "stream",
     "text": [
      "[[11.  9.]\n",
      " [10.  9.]\n",
      " [12.  9.]\n",
      " [ 9.  9.]\n",
      " [13.  9.]\n",
      " [ 8.  9.]\n",
      " [14.  9.]\n",
      " [ 7.  9.]\n",
      " [15.  9.]\n",
      " [ 8.  8.]\n",
      " [14.  8.]\n",
      " [ 7.  7.]\n",
      " [ 8.  7.]\n",
      " [ 9.  7.]\n",
      " [10.  7.]\n",
      " [11.  7.]\n",
      " [12.  7.]\n",
      " [13.  7.]\n",
      " [14.  7.]\n",
      " [15.  7.]]\n",
      "(9, 8)\n"
     ]
    },
    {
     "ename": "IndexError",
     "evalue": "too many indices for array: array is 1-dimensional, but 2 were indexed",
     "output_type": "error",
     "traceback": [
      "\u001b[1;31m---------------------------------------------------------------------------\u001b[0m",
      "\u001b[1;31mIndexError\u001b[0m                                Traceback (most recent call last)",
      "Input \u001b[1;32mIn [4]\u001b[0m, in \u001b[0;36m<cell line: 1>\u001b[1;34m()\u001b[0m\n\u001b[1;32m----> 1\u001b[0m m \u001b[38;5;241m=\u001b[39m \u001b[43mB\u001b[49m\u001b[38;5;241;43m.\u001b[39;49m\u001b[43mget_legal_moves\u001b[49m\u001b[43m(\u001b[49m\u001b[43m)\u001b[49m\n",
      "File \u001b[1;32mF:\\shogi\\Shogi\\Shogi\\shogi_2.py:432\u001b[0m, in \u001b[0;36mBoard.get_legal_moves\u001b[1;34m(self)\u001b[0m\n\u001b[0;32m    430\u001b[0m o_positions \u001b[38;5;241m=\u001b[39m \u001b[38;5;28mself\u001b[39m\u001b[38;5;241m.\u001b[39marray_position[\u001b[38;5;241m~\u001b[39m\u001b[38;5;28mself\u001b[39m\u001b[38;5;241m.\u001b[39marray_owner]\n\u001b[0;32m    431\u001b[0m \u001b[38;5;28;01mfor\u001b[39;00m p \u001b[38;5;129;01min\u001b[39;00m \u001b[38;5;28mself\u001b[39m\u001b[38;5;241m.\u001b[39mpieces:\n\u001b[1;32m--> 432\u001b[0m     \u001b[43mp\u001b[49m\u001b[38;5;241;43m.\u001b[39;49m\u001b[43mset_legal_move\u001b[49m\u001b[43m(\u001b[49m\u001b[43mpositions\u001b[49m\u001b[43m,\u001b[49m\u001b[43m \u001b[49m\u001b[43mo_positions\u001b[49m\u001b[43m)\u001b[49m\n\u001b[0;32m    433\u001b[0m     move_int \u001b[38;5;241m=\u001b[39m \u001b[38;5;28mlist\u001b[39m(\u001b[38;5;28mzip\u001b[39m(\u001b[38;5;241m*\u001b[39mnp\u001b[38;5;241m.\u001b[39mwhere(p\u001b[38;5;241m.\u001b[39mlegal_move)))\n\u001b[0;32m    434\u001b[0m     \u001b[38;5;28;01mfor\u001b[39;00m mi \u001b[38;5;129;01min\u001b[39;00m move_int:\n",
      "File \u001b[1;32mF:\\shogi\\Shogi\\Shogi\\shogi_2.py:70\u001b[0m, in \u001b[0;36mPiece.set_legal_move\u001b[1;34m(self, positions, o_positions)\u001b[0m\n\u001b[0;32m     68\u001b[0m     \u001b[38;5;28mself\u001b[39m\u001b[38;5;241m.\u001b[39m_set_legal_move_komadai(positions, o_positions)\n\u001b[0;32m     69\u001b[0m \u001b[38;5;28;01melse\u001b[39;00m:\n\u001b[1;32m---> 70\u001b[0m     \u001b[38;5;28;43mself\u001b[39;49m\u001b[38;5;241;43m.\u001b[39;49m\u001b[43m_set_legal_move_board\u001b[49m\u001b[43m(\u001b[49m\u001b[43mpositions\u001b[49m\u001b[43m,\u001b[49m\u001b[43m \u001b[49m\u001b[43mo_positions\u001b[49m\u001b[43m)\u001b[49m\n",
      "File \u001b[1;32mF:\\shogi\\Shogi\\Shogi\\shogi_2.py:128\u001b[0m, in \u001b[0;36mHISHA._set_legal_move_board\u001b[1;34m(self, positions, o_positions)\u001b[0m\n\u001b[0;32m    126\u001b[0m x3 \u001b[38;5;241m=\u001b[39m (\u001b[38;5;241m8\u001b[39m,\u001b[38;5;241m-\u001b[39mi\u001b[38;5;241m+\u001b[39m\u001b[38;5;241m8\u001b[39m)\n\u001b[0;32m    127\u001b[0m \u001b[38;5;28mprint\u001b[39m(x0)\n\u001b[1;32m--> 128\u001b[0m a[x0] \u001b[38;5;241m=\u001b[39m b0[\u001b[38;5;241m0\u001b[39m] \u001b[38;5;241m*\u001b[39m (x0 \u001b[38;5;241m==\u001b[39m positions)\u001b[38;5;241m.\u001b[39many()\n\u001b[0;32m    129\u001b[0m a[x1] \u001b[38;5;241m=\u001b[39m b0[\u001b[38;5;241m1\u001b[39m] \u001b[38;5;241m*\u001b[39m (x1 \u001b[38;5;129;01mnot\u001b[39;00m \u001b[38;5;129;01min\u001b[39;00m positions)\n\u001b[0;32m    130\u001b[0m a[x2] \u001b[38;5;241m=\u001b[39m b0[\u001b[38;5;241m2\u001b[39m] \u001b[38;5;241m*\u001b[39m (x2 \u001b[38;5;129;01mnot\u001b[39;00m \u001b[38;5;129;01min\u001b[39;00m positions)\n",
      "\u001b[1;31mIndexError\u001b[0m: too many indices for array: array is 1-dimensional, but 2 were indexed"
     ]
    }
   ],
   "source": [
    "m = B.get_legal_moves()"
   ]
  },
  {
   "cell_type": "code",
   "execution_count": 5,
   "id": "98a3d6b2",
   "metadata": {},
   "outputs": [
    {
     "data": {
      "text/plain": [
       "array([[False, False, False, False, False, False, False, False, False],\n",
       "       [False, False, False, False, False, False, False, False, False],\n",
       "       [False, False, False, False, False, False, False, False, False],\n",
       "       [False, False, False, False, False, False, False, False, False],\n",
       "       [False, False, False, False, False, False, False, False, False],\n",
       "       [False, False, False, False, False, False, False, False, False],\n",
       "       [False, False, False, False, False, False, False, False, False],\n",
       "       [False, False, False, False, False, False, False, False, False],\n",
       "       [False, False, False, False, False, False, False, False, False]])"
      ]
     },
     "execution_count": 5,
     "metadata": {},
     "output_type": "execute_result"
    }
   ],
   "source": [
    "B.pieces[19].legal_move"
   ]
  },
  {
   "cell_type": "code",
   "execution_count": 11,
   "id": "19c5269a",
   "metadata": {},
   "outputs": [
    {
     "data": {
      "text/plain": [
       "array([<shogi_2.OU object at 0x0000018585CBDDF0>,\n",
       "       <shogi_2.OU object at 0x0000018585CBDE20>,\n",
       "       <shogi_2.KIN object at 0x0000018585CBDE50>,\n",
       "       <shogi_2.KIN object at 0x0000018585CBDE80>,\n",
       "       <shogi_2.KIN object at 0x0000018585CBDEB0>,\n",
       "       <shogi_2.KIN object at 0x0000018585CBDEE0>,\n",
       "       <shogi_2.GIN object at 0x0000018585CBDF10>,\n",
       "       <shogi_2.GIN object at 0x0000018585CBD070>,\n",
       "       <shogi_2.GIN object at 0x0000018585CBD040>,\n",
       "       <shogi_2.GIN object at 0x0000018585CC0040>,\n",
       "       <shogi_2.KEIMA object at 0x0000018585CC0070>,\n",
       "       <shogi_2.KEIMA object at 0x0000018585CC00A0>,\n",
       "       <shogi_2.KEIMA object at 0x0000018585CC00D0>,\n",
       "       <shogi_2.KEIMA object at 0x0000018585CC0100>,\n",
       "       <shogi_2.KYO object at 0x0000018585CC0130>,\n",
       "       <shogi_2.KYO object at 0x0000018585CC0160>,\n",
       "       <shogi_2.KYO object at 0x0000018585CC0190>,\n",
       "       <shogi_2.KYO object at 0x0000018585CC01C0>,\n",
       "       <shogi_2.HISHA object at 0x0000018585CC01F0>,\n",
       "       <shogi_2.HISHA object at 0x0000018585CC0220>,\n",
       "       <shogi_2.KAKU object at 0x0000018585CC0250>,\n",
       "       <shogi_2.KAKU object at 0x0000018585CC0FD0>,\n",
       "       <shogi_2.FU object at 0x0000018585CC0FA0>,\n",
       "       <shogi_2.FU object at 0x0000018585CC0F70>,\n",
       "       <shogi_2.FU object at 0x0000018585CD6E50>,\n",
       "       <shogi_2.FU object at 0x0000018585CD6E80>,\n",
       "       <shogi_2.FU object at 0x0000018585CD6EB0>,\n",
       "       <shogi_2.FU object at 0x0000018585CD6EE0>,\n",
       "       <shogi_2.FU object at 0x0000018585CD6F10>,\n",
       "       <shogi_2.FU object at 0x0000018585CD6F40>,\n",
       "       <shogi_2.FU object at 0x0000018585CD6F70>,\n",
       "       <shogi_2.FU object at 0x0000018585CD6FA0>,\n",
       "       <shogi_2.FU object at 0x0000018585CD6FD0>,\n",
       "       <shogi_2.FU object at 0x0000018585CD6310>,\n",
       "       <shogi_2.FU object at 0x0000018585CD62E0>,\n",
       "       <shogi_2.FU object at 0x0000018585CD62B0>,\n",
       "       <shogi_2.FU object at 0x0000018585CD6280>,\n",
       "       <shogi_2.FU object at 0x0000018585CD6250>,\n",
       "       <shogi_2.FU object at 0x0000018585CD6220>,\n",
       "       <shogi_2.FU object at 0x0000018585CD61F0>], dtype=object)"
      ]
     },
     "execution_count": 11,
     "metadata": {},
     "output_type": "execute_result"
    }
   ],
   "source": [
    "B.pieces"
   ]
  },
  {
   "cell_type": "code",
   "execution_count": 5,
   "id": "1d325d20",
   "metadata": {},
   "outputs": [
    {
     "ename": "TypeError",
     "evalue": "array() takes from 1 to 2 positional arguments but 3 were given",
     "output_type": "error",
     "traceback": [
      "\u001b[1;31m---------------------------------------------------------------------------\u001b[0m",
      "\u001b[1;31mTypeError\u001b[0m                                 Traceback (most recent call last)",
      "Input \u001b[1;32mIn [5]\u001b[0m, in \u001b[0;36m<cell line: 2>\u001b[1;34m()\u001b[0m\n\u001b[0;32m      1\u001b[0m s\u001b[38;5;241m=\u001b[39m\u001b[38;5;28mset\u001b[39m()\n\u001b[1;32m----> 2\u001b[0m x \u001b[38;5;241m=\u001b[39m \u001b[43mnp\u001b[49m\u001b[38;5;241;43m.\u001b[39;49m\u001b[43marray\u001b[49m\u001b[43m(\u001b[49m\u001b[43m(\u001b[49m\u001b[38;5;241;43m1\u001b[39;49m\u001b[43m,\u001b[49m\u001b[38;5;241;43m2\u001b[39;49m\u001b[43m)\u001b[49m\u001b[43m,\u001b[49m\u001b[43m(\u001b[49m\u001b[38;5;241;43m3\u001b[39;49m\u001b[43m,\u001b[49m\u001b[38;5;241;43m4\u001b[39;49m\u001b[43m)\u001b[49m\u001b[43m,\u001b[49m\u001b[43m(\u001b[49m\u001b[38;5;241;43m5\u001b[39;49m\u001b[43m,\u001b[49m\u001b[38;5;241;43m6\u001b[39;49m\u001b[43m)\u001b[49m\u001b[43m)\u001b[49m\n\u001b[0;32m      3\u001b[0m s\u001b[38;5;241m.\u001b[39madd(\u001b[38;5;28mtuple\u001b[39m(x))\n\u001b[0;32m      4\u001b[0m ((\u001b[38;5;241m1\u001b[39m,\u001b[38;5;241m9\u001b[39m) \u001b[38;5;241m==\u001b[39m x)\n",
      "\u001b[1;31mTypeError\u001b[0m: array() takes from 1 to 2 positional arguments but 3 were given"
     ]
    }
   ],
   "source": [
    "s=set()\n",
    "x = np.array((1,2),(3,4),(5,6))\n",
    "s.add(tuple(x))\n",
    "((1,9) == x)"
   ]
  },
  {
   "cell_type": "code",
   "execution_count": 7,
   "id": "4c3c893e",
   "metadata": {},
   "outputs": [
    {
     "data": {
      "text/plain": [
       "array([[ True, False],\n",
       "       [False, False],\n",
       "       [False, False]])"
      ]
     },
     "execution_count": 7,
     "metadata": {},
     "output_type": "execute_result"
    }
   ],
   "source": [
    "x = np.array([(1,2),(3,4),(5,6)])\n",
    "x == (1,8)\n"
   ]
  },
  {
   "cell_type": "code",
   "execution_count": 8,
   "id": "71173dad",
   "metadata": {},
   "outputs": [
    {
     "data": {
      "text/plain": [
       "array([58., 41., 49., 78., 32., 51., 38., 79., 42., 62., 37., 89., 21.,\n",
       "       81., 19., 99., 11., 91., 34., 86., 88., 33., 17., 82., 36., 47.,\n",
       "       57., 67., 76.,  0., 97., 13.,  0.,  0., 43., 53., 63., 73.,  0.,\n",
       "       93.])"
      ]
     },
     "execution_count": 8,
     "metadata": {},
     "output_type": "execute_result"
    }
   ],
   "source": [
    "B.array_position[:,0] * 10 + B.array_position[:,1]"
   ]
  },
  {
   "cell_type": "code",
   "execution_count": 12,
   "id": "c6c2d18b",
   "metadata": {},
   "outputs": [
    {
     "data": {
      "text/plain": [
       "array([53., 37., 45., 71., 29., 46., 35., 72., 38., 56., 34., 81., 19.,\n",
       "       73., 18., 90., 10., 82., 31., 78., 80., 30., 16., 74., 33., 43.,\n",
       "       52., 61., 69.,  0., 88., 12.,  0.,  0., 39., 48., 57., 66.,  0.,\n",
       "       84.])"
      ]
     },
     "execution_count": 12,
     "metadata": {},
     "output_type": "execute_result"
    }
   ],
   "source": [
    "B.out_data[1:41]"
   ]
  },
  {
   "cell_type": "code",
   "execution_count": 14,
   "id": "8997a60f",
   "metadata": {},
   "outputs": [
    {
     "data": {
      "text/plain": [
       "array([5., 4., 4., 7., 3., 5., 3., 7., 4., 6., 3., 8., 2., 8., 1., 9., 1.,\n",
       "       9., 3., 8., 8., 3., 1., 8., 3., 4., 5., 6., 7., 0., 9., 1., 0., 0.,\n",
       "       4., 5., 6., 7., 0., 9.])"
      ]
     },
     "execution_count": 14,
     "metadata": {},
     "output_type": "execute_result"
    }
   ],
   "source": [
    "B.array_position[:,0]"
   ]
  },
  {
   "cell_type": "code",
   "execution_count": 15,
   "id": "0deb5272",
   "metadata": {},
   "outputs": [
    {
     "data": {
      "text/plain": [
       "array([[5., 8.],\n",
       "       [4., 1.],\n",
       "       [4., 9.],\n",
       "       [7., 8.],\n",
       "       [3., 2.],\n",
       "       [5., 1.],\n",
       "       [3., 8.],\n",
       "       [7., 9.],\n",
       "       [4., 2.],\n",
       "       [6., 2.],\n",
       "       [3., 7.],\n",
       "       [8., 9.],\n",
       "       [2., 1.],\n",
       "       [8., 1.],\n",
       "       [1., 9.],\n",
       "       [9., 9.],\n",
       "       [1., 1.],\n",
       "       [9., 1.],\n",
       "       [3., 4.],\n",
       "       [8., 6.],\n",
       "       [8., 8.],\n",
       "       [3., 3.],\n",
       "       [1., 7.],\n",
       "       [8., 2.],\n",
       "       [3., 6.],\n",
       "       [4., 7.],\n",
       "       [5., 7.],\n",
       "       [6., 7.],\n",
       "       [7., 6.],\n",
       "       [0., 0.],\n",
       "       [9., 7.],\n",
       "       [1., 3.],\n",
       "       [0., 0.],\n",
       "       [0., 0.],\n",
       "       [4., 3.],\n",
       "       [5., 3.],\n",
       "       [6., 3.],\n",
       "       [7., 3.],\n",
       "       [0., 0.],\n",
       "       [9., 3.]])"
      ]
     },
     "execution_count": 15,
     "metadata": {},
     "output_type": "execute_result"
    }
   ],
   "source": [
    "B.array_position"
   ]
  },
  {
   "cell_type": "code",
   "execution_count": 16,
   "id": "f1da1ae0",
   "metadata": {},
   "outputs": [
    {
     "data": {
      "text/plain": [
       "array(['O', 'O', 'K', 'K', 'K', 'K', 'G', 'G', 'G', 'G', 'K', 'K', 'K',\n",
       "       'K', 'K', 'K', 'K', 'K', 'H', 'H', 'K', 'K', 'F', 'F', 'F', 'F',\n",
       "       'F', 'F', 'F', 'F', 'F', 'F', 'F', 'F', 'F', 'F', 'F', 'F', 'F',\n",
       "       'F'], dtype='<U1')"
      ]
     },
     "execution_count": 16,
     "metadata": {},
     "output_type": "execute_result"
    }
   ],
   "source": [
    "B.array_name"
   ]
  },
  {
   "cell_type": "code",
   "execution_count": null,
   "id": "860b10ab",
   "metadata": {},
   "outputs": [],
   "source": []
  }
 ],
 "metadata": {
  "kernelspec": {
   "display_name": "Python 3 (ipykernel)",
   "language": "python",
   "name": "python3"
  },
  "language_info": {
   "codemirror_mode": {
    "name": "ipython",
    "version": 3
   },
   "file_extension": ".py",
   "mimetype": "text/x-python",
   "name": "python",
   "nbconvert_exporter": "python",
   "pygments_lexer": "ipython3",
   "version": "3.9.12"
  }
 },
 "nbformat": 4,
 "nbformat_minor": 5
}
