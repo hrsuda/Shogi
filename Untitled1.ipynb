{
 "cells": [
  {
   "cell_type": "code",
   "execution_count": 1,
   "id": "faf831ef",
   "metadata": {},
   "outputs": [],
   "source": [
    "import numpy as np\n",
    "from shogi_2 import *\n",
    "import plot_shogi as ps\n",
    "import learning\n",
    "import pickle\n"
   ]
  },
  {
   "cell_type": "code",
   "execution_count": 2,
   "id": "e5880d9d",
   "metadata": {},
   "outputs": [],
   "source": [
    "data = np.load('kifu_suda24.npy',allow_pickle=True)"
   ]
  },
  {
   "cell_type": "code",
   "execution_count": null,
   "id": "a5c41eb7",
   "metadata": {},
   "outputs": [],
   "source": []
  },
  {
   "cell_type": "code",
   "execution_count": 3,
   "id": "fe36cb60",
   "metadata": {},
   "outputs": [],
   "source": [
    "with open(\"hoge.pkl\", \"rb\") as f:\n",
    "    network = pickle.load(f)"
   ]
  },
  {
   "cell_type": "code",
   "execution_count": 4,
   "id": "29649b27",
   "metadata": {},
   "outputs": [],
   "source": [
    "with open(\"init_posision.pkl\", \"rb\") as f:\n",
    "    pieces = pickle.load(f)"
   ]
  },
  {
   "cell_type": "code",
   "execution_count": 5,
   "id": "893c481f",
   "metadata": {},
   "outputs": [],
   "source": [
    "B = Board(pieces)"
   ]
  },
  {
   "cell_type": "code",
   "execution_count": 6,
   "id": "40e90404",
   "metadata": {},
   "outputs": [],
   "source": [
    "i =532\n",
    "B.board_from_data(data=data[i,0])"
   ]
  },
  {
   "cell_type": "code",
   "execution_count": 7,
   "id": "cbf00694",
   "metadata": {},
   "outputs": [
    {
     "name": "stdout",
     "output_type": "stream",
     "text": [
      "[1 0 8 8]\n",
      "[1 0 9 8]\n"
     ]
    },
    {
     "data": {
      "text/plain": [
       "<AxesSubplot:>"
      ]
     },
     "execution_count": 7,
     "metadata": {},
     "output_type": "execute_result"
    },
    {
     "data": {
      "image/png": "[encoded data removed]",
      "text/plain": [
       "<Figure size 432x288 with 1 Axes>"
      ]
     },
     "metadata": {
      "needs_background": "light"
     },
     "output_type": "display_data"
    }
   ],
   "source": [
    "ps.plot_move(data[i,0],data[i,1])"
   ]
  },
  {
   "cell_type": "code",
   "execution_count": 8,
   "id": "e44db8d7",
   "metadata": {},
   "outputs": [
    {
     "data": {
      "text/plain": [
       "array([[2.78953581e-07]])"
      ]
     },
     "execution_count": 8,
     "metadata": {},
     "output_type": "execute_result"
    }
   ],
   "source": [
    "\n",
    "learning.sigmoid(network.predict(data[i].reshape(1,5600)))\n"
   ]
  },
  {
   "cell_type": "code",
   "execution_count": 9,
   "id": "6130b602",
   "metadata": {},
   "outputs": [
    {
     "name": "stdout",
     "output_type": "stream",
     "text": [
      "188\n",
      "[[0.9991498]]\n",
      "204\n",
      "[[0.99758688]]\n",
      "232\n",
      "[[0.76390241]]\n",
      "236\n",
      "[[0.62924091]]\n",
      "259\n",
      "[[0.99465691]]\n",
      "294\n",
      "[[0.99844888]]\n",
      "317\n",
      "[[0.99984384]]\n",
      "325\n",
      "[[0.89834753]]\n",
      "336\n",
      "[[0.89876193]]\n",
      "337\n",
      "[[0.76846733]]\n",
      "364\n",
      "[[0.99053074]]\n",
      "403\n",
      "[[0.99984982]]\n",
      "407\n",
      "[[0.68315865]]\n",
      "449\n",
      "[[0.9993825]]\n",
      "475\n",
      "[[0.99934019]]\n",
      "546\n",
      "[[0.99977754]]\n",
      "569\n",
      "[[0.91629953]]\n",
      "606\n",
      "[[0.99977933]]\n",
      "626\n",
      "[[0.99740503]]\n",
      "670\n",
      "[[0.9730444]]\n",
      "695\n",
      "[[0.99999039]]\n",
      "707\n",
      "[[0.99999039]]\n",
      "719\n",
      "[[0.99999039]]\n",
      "749\n",
      "[[0.99947221]]\n",
      "815\n",
      "[[0.99995189]]\n",
      "879\n",
      "[[0.99950132]]\n",
      "956\n",
      "[[0.99929133]]\n",
      "962\n",
      "[[0.99929133]]\n",
      "983\n",
      "[[0.99949578]]\n",
      "1043\n",
      "[[0.99899434]]\n",
      "1109\n",
      "[[0.98543686]]\n",
      "1174\n",
      "[[0.99699319]]\n",
      "1176\n",
      "[[0.99454292]]\n",
      "1242\n",
      "[[0.99862132]]\n",
      "1281\n",
      "[[0.99940332]]\n",
      "1341\n",
      "[[0.64445422]]\n",
      "1349\n",
      "[[0.99863677]]\n",
      "1388\n",
      "[[0.99852221]]\n",
      "1461\n",
      "[[0.99978893]]\n",
      "1486\n",
      "[[0.98388443]]\n",
      "1575\n",
      "[[0.99884332]]\n",
      "1589\n",
      "[[0.99591155]]\n",
      "1669\n",
      "[[0.99912997]]\n",
      "1684\n",
      "[[0.99745331]]\n",
      "1774\n",
      "[[0.99897397]]\n",
      "1787\n",
      "[[0.99877879]]\n",
      "1862\n",
      "[[0.9998108]]\n",
      "1896\n",
      "[[0.99819531]]\n",
      "1969\n",
      "[[0.9988395]]\n",
      "2047\n",
      "[[0.99912119]]\n",
      "2066\n",
      "[[0.96934975]]\n",
      "2143\n",
      "[[0.99962998]]\n",
      "2176\n",
      "[[0.99827765]]\n",
      "2287\n",
      "[[0.51382612]]\n",
      "2288\n",
      "[[0.99939793]]\n",
      "2332\n",
      "[[0.9956102]]\n",
      "2463\n",
      "[[0.99969864]]\n",
      "2514\n",
      "[[0.98631469]]\n",
      "2546\n",
      "[[0.56279094]]\n",
      "2642\n",
      "[[0.99860222]]\n",
      "2688\n",
      "[[0.99265776]]\n",
      "2691\n",
      "[[0.97789756]]\n",
      "2696\n",
      "[[0.92488551]]\n",
      "2715\n",
      "[[0.99840875]]\n",
      "2722\n",
      "[[0.86027993]]\n",
      "2739\n",
      "[[0.97751825]]\n",
      "2756\n",
      "[[0.95060014]]\n",
      "2758\n",
      "[[0.97868416]]\n",
      "2762\n",
      "[[0.92727109]]\n",
      "2763\n",
      "[[0.91121055]]\n",
      "2788\n",
      "[[0.99976849]]\n",
      "2804\n",
      "[[0.90819452]]\n",
      "2822\n",
      "[[0.99989802]]\n",
      "2850\n",
      "[[0.99960868]]\n",
      "2861\n",
      "[[0.56707798]]\n",
      "2869\n",
      "[[0.9880808]]\n",
      "2888\n",
      "[[0.99287428]]\n",
      "2922\n",
      "[[0.99974782]]\n",
      "2929\n",
      "[[0.73336074]]\n",
      "2953\n",
      "[[0.95752916]]\n",
      "2986\n",
      "[[0.99934332]]\n",
      "2988\n",
      "[[0.81208114]]\n",
      "2995\n",
      "[[0.54780936]]\n",
      "3009\n",
      "[[0.99986239]]\n",
      "3011\n",
      "[[0.93117905]]\n",
      "3030\n",
      "[[0.99998102]]\n",
      "3066\n",
      "[[0.99723105]]\n",
      "3085\n",
      "[[0.99935597]]\n",
      "3116\n",
      "[[0.947018]]\n",
      "3145\n",
      "[[0.99714631]]\n",
      "3154\n",
      "[[0.8087568]]\n",
      "3157\n",
      "[[0.92628376]]\n",
      "3192\n",
      "[[0.99904009]]\n",
      "3205\n",
      "[[0.99927861]]\n",
      "3244\n",
      "[[0.99871759]]\n",
      "3262\n",
      "[[0.71430615]]\n",
      "3278\n",
      "[[0.51034787]]\n",
      "3291\n",
      "[[0.92175284]]\n",
      "3309\n",
      "[[0.99751528]]\n",
      "3341\n",
      "[[0.99429503]]\n",
      "3369\n",
      "[[0.9984315]]\n",
      "3404\n",
      "[[0.98903972]]\n",
      "3429\n",
      "[[0.94124635]]\n",
      "3462\n",
      "[[0.99481881]]\n",
      "3471\n",
      "[[0.55428688]]\n",
      "3489\n",
      "[[0.9927501]]\n",
      "3505\n",
      "[[0.98544792]]\n",
      "3528\n",
      "[[0.5150014]]\n",
      "3572\n",
      "[[0.99537124]]\n",
      "3589\n",
      "[[0.97671212]]\n",
      "3607\n",
      "[[0.99976806]]\n",
      "3624\n",
      "[[0.99647191]]\n",
      "3703\n",
      "[[0.99769279]]\n",
      "3754\n",
      "[[0.98996483]]\n",
      "3765\n",
      "[[0.95394719]]\n",
      "3775\n",
      "[[0.95394719]]\n",
      "3788\n",
      "[[0.99621036]]\n",
      "3875\n",
      "[[0.99582679]]\n",
      "3885\n",
      "[[0.99582679]]\n",
      "3904\n",
      "[[0.99952813]]\n",
      "3966\n",
      "[[0.98243453]]\n",
      "3986\n",
      "[[0.99946858]]\n",
      "4027\n",
      "[[0.72283544]]\n",
      "4030\n",
      "[[0.99860842]]\n",
      "4077\n",
      "[[0.99842528]]\n",
      "4166\n",
      "[[0.99378819]]\n",
      "4206\n",
      "[[0.99778913]]\n",
      "4282\n",
      "[[0.99923979]]\n",
      "4314\n",
      "[[0.98646477]]\n",
      "4375\n",
      "[[0.99985198]]\n",
      "4410\n",
      "[[0.99979764]]\n",
      "4467\n",
      "[[0.99978045]]\n",
      "4477\n",
      "[[0.99978045]]\n",
      "4503\n",
      "[[0.71206423]]\n",
      "4533\n",
      "[[0.99747181]]\n",
      "4564\n",
      "[[0.99989451]]\n",
      "4602\n",
      "[[0.62628015]]\n",
      "4613\n",
      "[[0.99921351]]\n",
      "4670\n",
      "[[0.99830255]]\n",
      "4751\n",
      "[[0.99981331]]\n",
      "4821\n",
      "[[0.9999289]]\n",
      "4845\n",
      "[[0.925595]]\n",
      "4970\n",
      "[[0.99977264]]\n",
      "5096\n",
      "[[0.99992909]]\n",
      "5188\n",
      "[[0.99991231]]\n",
      "5355\n",
      "[[0.9999035]]\n",
      "5455\n",
      "[[0.9998984]]\n",
      "5612\n",
      "[[0.9997377]]\n",
      "5629\n",
      "[[0.9997377]]\n",
      "5660\n",
      "[[0.99924369]]\n",
      "5787\n",
      "[[0.99963924]]\n",
      "5896\n",
      "[[0.99929529]]\n",
      "5951\n",
      "[[0.99864234]]\n",
      "6078\n",
      "[[0.99708321]]\n",
      "6204\n",
      "[[0.99988476]]\n",
      "6287\n",
      "[[0.99978367]]\n",
      "6415\n",
      "[[0.99907782]]\n",
      "6536\n",
      "[[0.99874102]]\n",
      "6652\n",
      "[[0.99970386]]\n",
      "6745\n",
      "[[0.98085235]]\n",
      "6891\n",
      "[[0.99887773]]\n",
      "7006\n",
      "[[0.99991567]]\n",
      "7007\n",
      "[[0.75259106]]\n",
      "7212\n",
      "[[0.6328072]]\n",
      "7225\n",
      "[[0.99975284]]\n",
      "7360\n",
      "[[0.99973786]]\n",
      "7491\n",
      "[[0.99950307]]\n",
      "7541\n",
      "[[0.99950307]]\n",
      "7717\n",
      "[[0.9990755]]\n",
      "7894\n",
      "[[0.995002]]\n",
      "7966\n",
      "[[0.99265776]]\n",
      "7969\n",
      "[[0.97789756]]\n",
      "7974\n",
      "[[0.92488551]]\n",
      "7993\n",
      "[[0.99840875]]\n",
      "8000\n",
      "[[0.86027993]]\n",
      "8017\n",
      "[[0.97751825]]\n",
      "8034\n",
      "[[0.95060014]]\n",
      "8036\n",
      "[[0.97868416]]\n",
      "8040\n",
      "[[0.92727109]]\n",
      "8041\n",
      "[[0.91121055]]\n",
      "8066\n",
      "[[0.99888223]]\n",
      "8082\n",
      "[[0.54939588]]\n",
      "8093\n",
      "[[0.99223832]]\n",
      "8099\n",
      "[[0.98034214]]\n",
      "8130\n",
      "[[0.99757918]]\n",
      "8136\n",
      "[[0.98992397]]\n",
      "8141\n",
      "[[0.61329529]]\n",
      "8198\n",
      "[[0.9985511]]\n",
      "8232\n",
      "[[0.99957895]]\n",
      "8255\n",
      "[[0.99977886]]\n",
      "8274\n",
      "[[0.99258139]]\n",
      "8276\n",
      "[[0.92323263]]\n",
      "8307\n",
      "[[0.99988754]]\n",
      "8330\n",
      "[[0.99742276]]\n",
      "8350\n",
      "[[0.97237578]]\n",
      "8354\n",
      "[[0.66093912]]\n",
      "8397\n",
      "[[0.99850387]]\n",
      "8428\n",
      "[[0.98498056]]\n",
      "8430\n",
      "[[0.84272323]]\n",
      "8461\n",
      "[[0.6828387]]\n",
      "8466\n",
      "[[0.99634473]]\n",
      "8491\n",
      "[[0.9096764]]\n",
      "8513\n",
      "[[0.99861477]]\n",
      "8539\n",
      "[[0.98738472]]\n",
      "8561\n",
      "[[0.99972297]]\n",
      "8599\n",
      "[[0.99872536]]\n",
      "8606\n",
      "[[0.89563337]]\n",
      "8617\n",
      "[[0.99985178]]\n",
      "8688\n",
      "[[0.99142741]]\n",
      "8692\n",
      "[[0.99771921]]\n",
      "8727\n",
      "[[0.64176807]]\n",
      "8771\n",
      "[[0.99888912]]\n",
      "8777\n",
      "[[0.99999204]]\n",
      "8812\n",
      "[[0.58738796]]\n",
      "8855\n",
      "[[0.94511346]]\n",
      "8894\n",
      "[[0.99808067]]\n",
      "8908\n",
      "[[0.99929539]]\n",
      "8969\n",
      "[[0.99980396]]\n",
      "8992\n",
      "[[0.99944403]]\n",
      "9052\n",
      "[[0.99974209]]\n",
      "9095\n",
      "[[0.99954737]]\n",
      "9126\n",
      "[[0.99647107]]\n",
      "9142\n",
      "[[0.50333023]]\n",
      "9153\n",
      "[[0.71758216]]\n",
      "9275\n",
      "[[0.99665509]]\n",
      "9319\n",
      "[[0.99911931]]\n",
      "9402\n",
      "[[0.99995695]]\n",
      "9450\n",
      "[[0.99831196]]\n",
      "9452\n",
      "[[0.95297142]]\n",
      "9539\n",
      "[[0.99813545]]\n",
      "9573\n",
      "[[0.98802144]]\n",
      "9667\n",
      "[[0.99981508]]\n",
      "9704\n",
      "[[0.60675502]]\n",
      "9713\n",
      "[[0.99970455]]\n",
      "9835\n",
      "[[0.99645829]]\n",
      "9911\n",
      "[[0.99996328]]\n",
      "9938\n",
      "[[0.9919507]]\n",
      "9978\n",
      "[[0.99822913]]\n"
     ]
    }
   ],
   "source": [
    "for i in range(170,10000):\n",
    "    loss =  learning.sigmoid(network.predict(data[i].reshape(1,5600)))\n",
    "    if loss > 0.5:\n",
    "        \n",
    "        print(i)\n",
    "        print(loss)\n",
    "        \n"
   ]
  },
  {
   "cell_type": "code",
   "execution_count": 10,
   "id": "c8ec364f",
   "metadata": {},
   "outputs": [
    {
     "name": "stdout",
     "output_type": "stream",
     "text": [
      "[12  0  7  6]\n",
      "[12  0  7  7]\n"
     ]
    },
    {
     "data": {
      "text/plain": [
       "<AxesSubplot:>"
      ]
     },
     "execution_count": 10,
     "metadata": {},
     "output_type": "execute_result"
    },
    {
     "data": {
      "image/png": "[encoded data removed]",
      "text/plain": [
       "<Figure size 432x288 with 1 Axes>"
      ]
     },
     "metadata": {
      "needs_background": "light"
     },
     "output_type": "display_data"
    }
   ],
   "source": [
    "i = 8000\n",
    "ps.plot_move(data[i,0],data[i,1])"
   ]
  },
  {
   "cell_type": "code",
   "execution_count": 11,
   "id": "19f88885",
   "metadata": {},
   "outputs": [],
   "source": [
    "i =5324\n",
    "B.board_from_data(data=data[i,0])\n",
    "moves = B.get_legal_moves()"
   ]
  },
  {
   "cell_type": "code",
   "execution_count": 12,
   "id": "974df643",
   "metadata": {},
   "outputs": [
    {
     "data": {
      "text/plain": [
       "<AxesSubplot:>"
      ]
     },
     "execution_count": 12,
     "metadata": {},
     "output_type": "execute_result"
    },
    {
     "data": {
      "image/png": "[encoded data removed]",
      "text/plain": [
       "<Figure size 432x288 with 1 Axes>"
      ]
     },
     "metadata": {
      "needs_background": "light"
     },
     "output_type": "display_data"
    }
   ],
   "source": [
    "ps.plot_board(B.pieces)"
   ]
  },
  {
   "cell_type": "code",
   "execution_count": 13,
   "id": "93bd23d6",
   "metadata": {},
   "outputs": [
    {
     "data": {
      "text/plain": [
       "156"
      ]
     },
     "execution_count": 13,
     "metadata": {},
     "output_type": "execute_result"
    }
   ],
   "source": [
    "len(moves)"
   ]
  },
  {
   "cell_type": "code",
   "execution_count": 14,
   "id": "a31f84ba",
   "metadata": {},
   "outputs": [],
   "source": [
    "p = B.pieces[18]"
   ]
  },
  {
   "cell_type": "code",
   "execution_count": 15,
   "id": "9b92ea72",
   "metadata": {},
   "outputs": [
    {
     "data": {
      "text/plain": [
       "'NY'"
      ]
     },
     "execution_count": 15,
     "metadata": {},
     "output_type": "execute_result"
    }
   ],
   "source": [
    "p.promote_name"
   ]
  },
  {
   "cell_type": "code",
   "execution_count": 16,
   "id": "ee7e9e4d",
   "metadata": {},
   "outputs": [
    {
     "data": {
      "text/plain": [
       "'KY'"
      ]
     },
     "execution_count": 16,
     "metadata": {},
     "output_type": "execute_result"
    }
   ],
   "source": [
    "p.name"
   ]
  },
  {
   "cell_type": "code",
   "execution_count": 17,
   "id": "144acbd1",
   "metadata": {},
   "outputs": [],
   "source": [
    "move_data = []\n",
    "for m in moves:\n",
    "    move_data.append(B.move_data_tmp((int(m[0]),int(m[1])),(int(m[2]),int(m[3])),m[4:]))\n"
   ]
  },
  {
   "cell_type": "markdown",
   "id": "1ed87fa0",
   "metadata": {},
   "source": [
    "move_data"
   ]
  },
  {
   "cell_type": "code",
   "execution_count": 18,
   "id": "9c6815a8",
   "metadata": {},
   "outputs": [
    {
     "data": {
      "text/plain": [
       "(156, 14, 2, 10, 10)"
      ]
     },
     "execution_count": 18,
     "metadata": {},
     "output_type": "execute_result"
    }
   ],
   "source": [
    "np.shape(move_data)"
   ]
  },
  {
   "cell_type": "code",
   "execution_count": 19,
   "id": "775781f8",
   "metadata": {},
   "outputs": [],
   "source": [
    "result = []\n",
    "for i in range(156):\n",
    "    result.append(learning.sigmoid(network.predict(np.array([B.out_data,move_data[i]]).reshape(1,5600))))"
   ]
  },
  {
   "cell_type": "raw",
   "id": "d47a685d",
   "metadata": {},
   "source": [
    "B.board_"
   ]
  },
  {
   "cell_type": "code",
   "execution_count": 20,
   "id": "aea6e05d",
   "metadata": {},
   "outputs": [
    {
     "data": {
      "text/plain": [
       "[array([[1.79332778e-06]]),\n",
       " array([[4.46784278e-08]]),\n",
       " array([[2.30451377e-05]]),\n",
       " array([[1.03032893e-06]]),\n",
       " array([[8.95702977e-07]]),\n",
       " array([[2.25255169e-07]]),\n",
       " array([[1.90222777e-05]]),\n",
       " array([[0.00548721]]),\n",
       " array([[2.44323796e-08]]),\n",
       " array([[1.48300951e-05]]),\n",
       " array([[3.11313002e-05]]),\n",
       " array([[2.5241197e-06]]),\n",
       " array([[0.00054311]]),\n",
       " array([[4.97282707e-08]]),\n",
       " array([[2.21527915e-08]]),\n",
       " array([[7.45676421e-09]]),\n",
       " array([[4.38258568e-08]]),\n",
       " array([[1.04386983e-07]]),\n",
       " array([[3.15950809e-05]]),\n",
       " array([[0.00026943]]),\n",
       " array([[5.96844734e-08]]),\n",
       " array([[1.29192554e-07]]),\n",
       " array([[2.12357596e-08]]),\n",
       " array([[1.73684248e-08]]),\n",
       " array([[2.59745314e-07]]),\n",
       " array([[9.81317283e-08]]),\n",
       " array([[9.93409665e-06]]),\n",
       " array([[0.00264244]]),\n",
       " array([[6.93490254e-09]]),\n",
       " array([[1.06482101e-06]]),\n",
       " array([[1.61409935e-08]]),\n",
       " array([[3.47250557e-08]]),\n",
       " array([[8.87206784e-05]]),\n",
       " array([[0.0542345]]),\n",
       " array([[1.24804586e-07]]),\n",
       " array([[4.26417058e-06]]),\n",
       " array([[2.54723001e-07]]),\n",
       " array([[1.66417989e-05]]),\n",
       " array([[5.34735664e-07]]),\n",
       " array([[2.3789495e-08]]),\n",
       " array([[0.01333066]]),\n",
       " array([[1.71889399e-06]]),\n",
       " array([[1.5141691e-07]]),\n",
       " array([[1.37034193e-07]]),\n",
       " array([[1.79866506e-07]]),\n",
       " array([[0.01338967]]),\n",
       " array([[6.86536517e-09]]),\n",
       " array([[6.08004644e-07]]),\n",
       " array([[3.26688052e-08]]),\n",
       " array([[1.33131049e-05]]),\n",
       " array([[4.12074236e-06]]),\n",
       " array([[3.31185246e-06]]),\n",
       " array([[4.40694122e-09]]),\n",
       " array([[8.64817067e-08]]),\n",
       " array([[4.88341455e-07]]),\n",
       " array([[4.0776357e-08]]),\n",
       " array([[5.16226734e-07]]),\n",
       " array([[4.90336102e-07]]),\n",
       " array([[0.00026404]]),\n",
       " array([[3.82703538e-09]]),\n",
       " array([[4.21759142e-06]]),\n",
       " array([[3.98054591e-06]]),\n",
       " array([[0.00322819]]),\n",
       " array([[0.00032032]]),\n",
       " array([[9.52355764e-07]]),\n",
       " array([[5.68929998e-05]]),\n",
       " array([[1.28281919e-06]]),\n",
       " array([[0.00024978]]),\n",
       " array([[4.77347638e-07]]),\n",
       " array([[9.83546499e-06]]),\n",
       " array([[0.00233846]]),\n",
       " array([[4.26836389e-06]]),\n",
       " array([[1.56145737e-05]]),\n",
       " array([[3.35141661e-08]]),\n",
       " array([[1.980202e-09]]),\n",
       " array([[1.04102335e-08]]),\n",
       " array([[1.17563276e-08]]),\n",
       " array([[5.36412756e-08]]),\n",
       " array([[3.23119416e-07]]),\n",
       " array([[3.05610364e-09]]),\n",
       " array([[2.34391833e-05]]),\n",
       " array([[1.10428123e-07]]),\n",
       " array([[0.00018708]]),\n",
       " array([[1.4525006e-06]]),\n",
       " array([[3.43945916e-08]]),\n",
       " array([[6.56481167e-09]]),\n",
       " array([[4.0787322e-08]]),\n",
       " array([[0.00213422]]),\n",
       " array([[4.55414992e-05]]),\n",
       " array([[9.45387435e-08]]),\n",
       " array([[3.83290926e-09]]),\n",
       " array([[4.30217441e-06]]),\n",
       " array([[3.2634321e-07]]),\n",
       " array([[0.00654097]]),\n",
       " array([[0.00047836]]),\n",
       " array([[0.00015005]]),\n",
       " array([[7.046062e-06]]),\n",
       " array([[0.00118164]]),\n",
       " array([[4.67309733e-05]]),\n",
       " array([[1.97795832e-07]]),\n",
       " array([[0.04665916]]),\n",
       " array([[4.89134116e-06]]),\n",
       " array([[4.16368245e-07]]),\n",
       " array([[1.8486988e-06]]),\n",
       " array([[2.23751681e-07]]),\n",
       " array([[4.02680142e-07]]),\n",
       " array([[1.10343941e-07]]),\n",
       " array([[6.81851005e-07]]),\n",
       " array([[1.28482443e-07]]),\n",
       " array([[1.17726013e-07]]),\n",
       " array([[3.13272531e-06]]),\n",
       " array([[6.57574803e-08]]),\n",
       " array([[4.52432521e-08]]),\n",
       " array([[9.48383879e-07]]),\n",
       " array([[0.04175468]]),\n",
       " array([[6.11227564e-09]]),\n",
       " array([[1.45280761e-09]]),\n",
       " array([[3.8775049e-09]]),\n",
       " array([[2.4564705e-08]]),\n",
       " array([[8.89106187e-09]]),\n",
       " array([[0.00396102]]),\n",
       " array([[7.18523187e-07]]),\n",
       " array([[0.00508075]]),\n",
       " array([[1.72542546e-05]]),\n",
       " array([[1.2755564e-08]]),\n",
       " array([[1.51775484e-07]]),\n",
       " array([[4.37368915e-08]]),\n",
       " array([[0.00052252]]),\n",
       " array([[1.38758677e-09]]),\n",
       " array([[3.8777108e-05]]),\n",
       " array([[1.78911348e-05]]),\n",
       " array([[4.02299497e-07]]),\n",
       " array([[1.16623517e-08]]),\n",
       " array([[1.60750068e-07]]),\n",
       " array([[7.87142911e-07]]),\n",
       " array([[0.00100848]]),\n",
       " array([[0.00021718]]),\n",
       " array([[1.11436098e-09]]),\n",
       " array([[1.47674221e-06]]),\n",
       " array([[6.88812042e-06]]),\n",
       " array([[7.55056176e-07]]),\n",
       " array([[0.9999035]]),\n",
       " array([[9.47146692e-06]]),\n",
       " array([[0.0003892]]),\n",
       " array([[7.02426868e-05]]),\n",
       " array([[1.38758677e-09]]),\n",
       " array([[3.8777108e-05]]),\n",
       " array([[1.78911348e-05]]),\n",
       " array([[4.02299497e-07]]),\n",
       " array([[1.16623517e-08]]),\n",
       " array([[1.60750068e-07]]),\n",
       " array([[7.87142911e-07]]),\n",
       " array([[0.00100848]]),\n",
       " array([[0.00021718]]),\n",
       " array([[1.11436098e-09]]),\n",
       " array([[1.47674221e-06]])]"
      ]
     },
     "execution_count": 20,
     "metadata": {},
     "output_type": "execute_result"
    }
   ],
   "source": [
    "result"
   ]
  },
  {
   "cell_type": "code",
   "execution_count": 21,
   "id": "a8484c1e",
   "metadata": {},
   "outputs": [],
   "source": [
    "ind = np.argsort(result,axis=0,)"
   ]
  },
  {
   "cell_type": "code",
   "execution_count": 22,
   "id": "02421ef2",
   "metadata": {},
   "outputs": [
    {
     "data": {
      "text/plain": [
       "<AxesSubplot:>"
      ]
     },
     "execution_count": 22,
     "metadata": {},
     "output_type": "execute_result"
    },
    {
     "data": {
      "image/png": "[encoded data removed]",
      "text/plain": [
       "<Figure size 432x288 with 1 Axes>"
      ]
     },
     "metadata": {
      "needs_background": "light"
     },
     "output_type": "display_data"
    }
   ],
   "source": [
    "ps.plot_board(B.pieces)"
   ]
  },
  {
   "cell_type": "code",
   "execution_count": 23,
   "id": "d63f1362",
   "metadata": {
    "scrolled": true
   },
   "outputs": [
    {
     "name": "stdout",
     "output_type": "stream",
     "text": [
      "5554FU[[0.9999035]]\n",
      "0046KA[[0.0542345]]\n",
      "0057GI[[0.04665916]]\n",
      "0088GI[[0.04175468]]\n",
      "0065KA[[0.01338967]]\n",
      "0057KA[[0.01333066]]\n",
      "0046GI[[0.00654097]]\n",
      "2625HI[[0.00548721]]\n",
      "7988GI[[0.00508075]]\n",
      "5647GI[[0.00396102]]\n",
      "6657KA[[0.00322819]]\n",
      "0036KA[[0.00264244]]\n",
      "6858KI[[0.00233846]]\n",
      "0036GI[[0.00213422]]\n",
      "0051GI[[0.00118164]]\n",
      "0035FU[[0.00100848]]\n",
      "0035FU[[0.00100848]]\n",
      "2646HI[[0.00054311]]\n",
      "9998KY[[0.00052252]]\n",
      "0047GI[[0.00047836]]\n",
      "8786FU[[0.0003892]]\n",
      "6675KA[[0.00032032]]\n",
      "0024KA[[0.00026943]]\n",
      "0097KA[[0.00026404]]\n",
      "6693UM[[0.00024978]]\n",
      "0036FU[[0.00021718]]\n",
      "0036FU[[0.00021718]]\n",
      "0028GI[[0.00018708]]\n",
      "0048GI[[0.00015005]]\n",
      "0044KA[[8.87206784e-05]]\n",
      "9695FU[[7.02426868e-05]]\n",
      "6684KA[[5.68929998e-05]]\n",
      "0052GI[[4.67309733e-05]]\n",
      "0038GI[[4.55414992e-05]]\n",
      "0024FU[[3.8777108e-05]]\n",
      "0024FU[[3.8777108e-05]]\n",
      "0022KA[[3.15950809e-05]]\n",
      "2629HI[[3.11313002e-05]]\n",
      "0025GI[[2.34391833e-05]]\n",
      "7888OU[[2.30451377e-05]]\n",
      "2624HI[[1.90222777e-05]]\n",
      "0025FU[[1.78911348e-05]]\n",
      "0025FU[[1.78911348e-05]]\n",
      "8977KE[[1.72542546e-05]]\n",
      "0051KA[[1.66417989e-05]]\n",
      "6877KI[[1.56145737e-05]]\n",
      "2628HI[[1.48300951e-05]]\n",
      "0075KA[[1.33131049e-05]]\n",
      "0035KA[[9.93409665e-06]]\n",
      "6857KI[[9.83546499e-06]]\n",
      "7675FU[[9.47146692e-06]]\n",
      "0049GI[[7.046062e-06]]\n",
      "1716FU[[6.88812042e-06]]\n",
      "0058GI[[4.89134116e-06]]\n",
      "0043GI[[4.30217441e-06]]\n",
      "6869KI[[4.26836389e-06]]\n",
      "0048KA[[4.26417058e-06]]\n",
      "6639KA[[4.21759142e-06]]\n",
      "0077KA[[4.12074236e-06]]\n",
      "6648KA[[3.98054591e-06]]\n",
      "0084KA[[3.31185246e-06]]\n",
      "0077GI[[3.13272531e-06]]\n",
      "2636HI[[2.5241197e-06]]\n",
      "0062GI[[1.8486988e-06]]\n",
      "7869OU[[1.79332778e-06]]\n",
      "0058KA[[1.71889399e-06]]\n",
      "0039FU[[1.47674221e-06]]\n",
      "0039FU[[1.47674221e-06]]\n",
      "0029GI[[1.4525006e-06]]\n",
      "6688KA[[1.28281919e-06]]\n",
      "0039KA[[1.06482101e-06]]\n",
      "2616HI[[1.03032893e-06]]\n",
      "6677KA[[9.52355764e-07]]\n",
      "0086GI[[9.48383879e-07]]\n",
      "2623RY[[8.95702977e-07]]\n",
      "0034FU[[7.87142911e-07]]\n",
      "0034FU[[7.87142911e-07]]\n",
      "4544FU[[7.55056176e-07]]\n",
      "5665GI[[7.18523187e-07]]\n",
      "0071GI[[6.81851005e-07]]\n",
      "0071KA[[6.08004644e-07]]\n",
      "0052KA[[5.34735664e-07]]\n",
      "0093KA[[5.16226734e-07]]\n",
      "0095KA[[4.90336102e-07]]\n",
      "0088KA[[4.88341455e-07]]\n",
      "6693KA[[4.77347638e-07]]\n",
      "0059GI[[4.16368245e-07]]\n",
      "0065GI[[4.02680142e-07]]\n",
      "0027FU[[4.02299497e-07]]\n",
      "0027FU[[4.02299497e-07]]\n",
      "0044GI[[3.2634321e-07]]\n",
      "0022GI[[3.23119416e-07]]\n",
      "0031KA[[2.59745314e-07]]\n",
      "0049KA[[2.54723001e-07]]\n",
      "2623HI[[2.25255169e-07]]\n",
      "0064GI[[2.23751681e-07]]\n",
      "0054GI[[1.97795832e-07]]\n",
      "0064KA[[1.79866506e-07]]\n",
      "0029FU[[1.60750068e-07]]\n",
      "0029FU[[1.60750068e-07]]\n",
      "1918KY[[1.51775484e-07]]\n",
      "0059KA[[1.5141691e-07]]\n",
      "0062KA[[1.37034193e-07]]\n",
      "0027KA[[1.29192554e-07]]\n",
      "0074GI[[1.28482443e-07]]\n",
      "0047KA[[1.24804586e-07]]\n",
      "0075GI[[1.17726013e-07]]\n",
      "0027GI[[1.10428123e-07]]\n",
      "0069GI[[1.10343941e-07]]\n",
      "0018KA[[1.04386983e-07]]\n",
      "0034KA[[9.81317283e-08]]\n",
      "0039GI[[9.45387435e-08]]\n",
      "0086KA[[8.64817067e-08]]\n",
      "0084GI[[6.57574803e-08]]\n",
      "0025KA[[5.96844734e-08]]\n",
      "0018GI[[5.36412756e-08]]\n",
      "0012KA[[4.97282707e-08]]\n",
      "0085GI[[4.52432521e-08]]\n",
      "7877OU[[4.46784278e-08]]\n",
      "0016KA[[4.38258568e-08]]\n",
      "9997KY[[4.37368915e-08]]\n",
      "0035GI[[4.0787322e-08]]\n",
      "0092KA[[4.0776357e-08]]\n",
      "0043KA[[3.47250557e-08]]\n",
      "0031GI[[3.43945916e-08]]\n",
      "0012GI[[3.35141661e-08]]\n",
      "0074KA[[3.26688052e-08]]\n",
      "0097GI[[2.4564705e-08]]\n",
      "2627HI[[2.44323796e-08]]\n",
      "0054KA[[2.3789495e-08]]\n",
      "0013KA[[2.21527915e-08]]\n",
      "0028KA[[2.12357596e-08]]\n",
      "0029KA[[1.73684248e-08]]\n",
      "0042KA[[1.61409935e-08]]\n",
      "8997KE[[1.2755564e-08]]\n",
      "0016GI[[1.17563276e-08]]\n",
      "0028FU[[1.16623517e-08]]\n",
      "0028FU[[1.16623517e-08]]\n",
      "0015GI[[1.04102335e-08]]\n",
      "0098GI[[8.89106187e-09]]\n",
      "0015KA[[7.45676421e-09]]\n",
      "0038KA[[6.93490254e-09]]\n",
      "0069KA[[6.86536517e-09]]\n",
      "0034GI[[6.56481167e-09]]\n",
      "0092GI[[6.11227564e-09]]\n",
      "0085KA[[4.40694122e-09]]\n",
      "0095GI[[3.8775049e-09]]\n",
      "0042GI[[3.83290926e-09]]\n",
      "0098KA[[3.82703538e-09]]\n",
      "0024GI[[3.05610364e-09]]\n",
      "0013GI[[1.980202e-09]]\n",
      "0093GI[[1.45280761e-09]]\n",
      "0022FU[[1.38758677e-09]]\n",
      "0022FU[[1.38758677e-09]]\n",
      "0038FU[[1.11436098e-09]]\n",
      "0038FU[[1.11436098e-09]]\n"
     ]
    }
   ],
   "source": [
    "for i in ind[::-1,0,0]:\n",
    "    print(moves[i]+str(result[i]))"
   ]
  },
  {
   "cell_type": "code",
   "execution_count": 36,
   "id": "c6d7646a",
   "metadata": {},
   "outputs": [
    {
     "data": {
      "text/plain": [
       "array([[137],\n",
       "       [154],\n",
       "       [128],\n",
       "       [145],\n",
       "       [116],\n",
       "       [ 74],\n",
       "       [ 79],\n",
       "       [ 59],\n",
       "       [ 90],\n",
       "       [117],\n",
       "       [ 52],\n",
       "       [115],\n",
       "       [ 85],\n",
       "       [ 46],\n",
       "       [ 28],\n",
       "       [ 15],\n",
       "       [119],\n",
       "       [ 75],\n",
       "       [149],\n",
       "       [132],\n",
       "       [ 76],\n",
       "       [124],\n",
       "       [ 30],\n",
       "       [ 23],\n",
       "       [ 22],\n",
       "       [ 14],\n",
       "       [ 39],\n",
       "       [  8],\n",
       "       [118],\n",
       "       [ 48],\n",
       "       [ 73],\n",
       "       [ 84],\n",
       "       [ 31],\n",
       "       [ 55],\n",
       "       [ 86],\n",
       "       [126],\n",
       "       [ 16],\n",
       "       [  1],\n",
       "       [112],\n",
       "       [ 13],\n",
       "       [ 77],\n",
       "       [ 20],\n",
       "       [111],\n",
       "       [ 53],\n",
       "       [ 89],\n",
       "       [ 25],\n",
       "       [ 17],\n",
       "       [106],\n",
       "       [ 81],\n",
       "       [109],\n",
       "       [ 34],\n",
       "       [108],\n",
       "       [ 21],\n",
       "       [ 43],\n",
       "       [ 42],\n",
       "       [125],\n",
       "       [150],\n",
       "       [133],\n",
       "       [ 44],\n",
       "       [ 99],\n",
       "       [104],\n",
       "       [  5],\n",
       "       [ 36],\n",
       "       [ 24],\n",
       "       [ 78],\n",
       "       [ 92],\n",
       "       [131],\n",
       "       [148],\n",
       "       [105],\n",
       "       [102],\n",
       "       [ 68],\n",
       "       [ 54],\n",
       "       [ 57],\n",
       "       [ 56],\n",
       "       [ 38],\n",
       "       [ 47],\n",
       "       [107],\n",
       "       [121],\n",
       "       [140],\n",
       "       [134],\n",
       "       [151],\n",
       "       [  4],\n",
       "       [113],\n",
       "       [ 64],\n",
       "       [  3],\n",
       "       [ 29],\n",
       "       [ 66],\n",
       "       [ 83],\n",
       "       [138],\n",
       "       [155],\n",
       "       [ 41],\n",
       "       [  0],\n",
       "       [103],\n",
       "       [ 11],\n",
       "       [110],\n",
       "       [ 51],\n",
       "       [ 61],\n",
       "       [ 50],\n",
       "       [ 60],\n",
       "       [ 35],\n",
       "       [ 71],\n",
       "       [ 91],\n",
       "       [101],\n",
       "       [139],\n",
       "       [ 96],\n",
       "       [142],\n",
       "       [ 69],\n",
       "       [ 26],\n",
       "       [ 49],\n",
       "       [  9],\n",
       "       [ 72],\n",
       "       [ 37],\n",
       "       [123],\n",
       "       [147],\n",
       "       [130],\n",
       "       [  6],\n",
       "       [  2],\n",
       "       [ 80],\n",
       "       [ 10],\n",
       "       [ 18],\n",
       "       [129],\n",
       "       [146],\n",
       "       [ 88],\n",
       "       [ 98],\n",
       "       [ 65],\n",
       "       [144],\n",
       "       [ 32],\n",
       "       [ 95],\n",
       "       [ 82],\n",
       "       [153],\n",
       "       [136],\n",
       "       [ 67],\n",
       "       [ 58],\n",
       "       [ 19],\n",
       "       [ 63],\n",
       "       [143],\n",
       "       [ 94],\n",
       "       [127],\n",
       "       [ 12],\n",
       "       [152],\n",
       "       [135],\n",
       "       [ 97],\n",
       "       [ 87],\n",
       "       [ 70],\n",
       "       [ 27],\n",
       "       [ 62],\n",
       "       [120],\n",
       "       [122],\n",
       "       [  7],\n",
       "       [ 93],\n",
       "       [ 40],\n",
       "       [ 45],\n",
       "       [114],\n",
       "       [100],\n",
       "       [ 33],\n",
       "       [141]], dtype=int64)"
      ]
     },
     "execution_count": 36,
     "metadata": {},
     "output_type": "execute_result"
    }
   ],
   "source": [
    "ind[:,0]"
   ]
  },
  {
   "cell_type": "code",
   "execution_count": 24,
   "id": "2e89aaca",
   "metadata": {},
   "outputs": [
    {
     "data": {
      "text/plain": [
       "['P1', 'P2']"
      ]
     },
     "execution_count": 24,
     "metadata": {},
     "output_type": "execute_result"
    }
   ],
   "source": [
    "B.players"
   ]
  },
  {
   "cell_type": "code",
   "execution_count": 27,
   "id": "ae64619c",
   "metadata": {},
   "outputs": [],
   "source": [
    "a = np.array([0,1])"
   ]
  },
  {
   "cell_type": "code",
   "execution_count": 30,
   "id": "2b3cbe5a",
   "metadata": {},
   "outputs": [
    {
     "data": {
      "text/plain": [
       "1"
      ]
     },
     "execution_count": 30,
     "metadata": {},
     "output_type": "execute_result"
    }
   ],
   "source": [
    "np.where(a==1)[0][0]"
   ]
  },
  {
   "cell_type": "code",
   "execution_count": 31,
   "id": "c2803dc1",
   "metadata": {},
   "outputs": [],
   "source": [
    "data_test = np.load(\"./kifu_cp50.npy\",allow_pickle=True)"
   ]
  },
  {
   "cell_type": "code",
   "execution_count": 39,
   "id": "b5a5493c",
   "metadata": {},
   "outputs": [],
   "source": [
    "i =52984\n",
    "B.board_from_data(data=data_test[i,0])\n",
    "moves = B.get_legal_moves()"
   ]
  },
  {
   "cell_type": "code",
   "execution_count": 40,
   "id": "f2e7f834",
   "metadata": {},
   "outputs": [],
   "source": [
    "move_data = []\n",
    "for m in moves:\n",
    "    move_data.append(B.move_data_tmp((int(m[0]),int(m[1])),(int(m[2]),int(m[3])),m[4:]))"
   ]
  },
  {
   "cell_type": "code",
   "execution_count": 41,
   "id": "80e00725",
   "metadata": {},
   "outputs": [],
   "source": [
    "result = []\n",
    "for i in range(len(move_data)):\n",
    "    result.append(learning.sigmoid(network.predict(np.array([B.out_data,move_data[i]]).reshape(1,5600))))"
   ]
  },
  {
   "cell_type": "code",
   "execution_count": 42,
   "id": "00990502",
   "metadata": {},
   "outputs": [],
   "source": [
    "ind = np.argsort(result,axis=0,)"
   ]
  },
  {
   "cell_type": "code",
   "execution_count": 43,
   "id": "f674449a",
   "metadata": {},
   "outputs": [
    {
     "data": {
      "text/plain": [
       "<AxesSubplot:>"
      ]
     },
     "execution_count": 43,
     "metadata": {},
     "output_type": "execute_result"
    },
    {
     "data": {
      "image/png": "[encoded data removed]",
      "text/plain": [
       "<Figure size 432x288 with 1 Axes>"
      ]
     },
     "metadata": {
      "needs_background": "light"
     },
     "output_type": "display_data"
    }
   ],
   "source": [
    "ps.plot_board(B.pieces)"
   ]
  },
  {
   "cell_type": "code",
   "execution_count": 44,
   "id": "06860e14",
   "metadata": {
    "scrolled": true
   },
   "outputs": [
    {
     "name": "stdout",
     "output_type": "stream",
     "text": [
      "2322TO[[0.99965239]]\n",
      "4866KA[[0.99028175]]\n",
      "5655FU[[0.92971959]]\n",
      "2937KE[[0.91683792]]\n",
      "7665GI[[0.37556252]]\n",
      "7667GI[[0.29608716]]\n",
      "8977KE[[0.24391631]]\n",
      "4657GI[[0.08741431]]\n",
      "4893UM[[0.06883643]]\n",
      "8786FU[[0.06768969]]\n",
      "8897OU[[0.05988024]]\n",
      "0074FU[[0.04662509]]\n",
      "0074FU[[0.04662509]]\n",
      "0074FU[[0.04662509]]\n",
      "3534FU[[0.03145144]]\n",
      "2528HI[[0.00671483]]\n",
      "8879OU[[0.00219217]]\n",
      "7879KI[[0.00196237]]\n",
      "2524HI[[0.00015431]]\n",
      "5857KI[[9.45509233e-05]]\n",
      "0077FU[[6.379951e-05]]\n",
      "0077FU[[6.379951e-05]]\n",
      "0077FU[[6.379951e-05]]\n",
      "4859KA[[1.71924255e-05]]\n",
      "0066FU[[1.71640727e-05]]\n",
      "0066FU[[1.71640727e-05]]\n",
      "0066FU[[1.71640727e-05]]\n",
      "8898OU[[1.42723136e-05]]\n",
      "5867KI[[7.46362475e-06]]\n",
      "7877KI[[5.96271717e-06]]\n",
      "0075FU[[3.09204413e-06]]\n",
      "0075FU[[3.09204413e-06]]\n",
      "0075FU[[3.09204413e-06]]\n",
      "4655GI[[2.68202339e-06]]\n",
      "4645GI[[2.38935999e-06]]\n",
      "4875KA[[2.303012e-06]]\n",
      "0067FU[[1.54112312e-06]]\n",
      "0067FU[[1.54112312e-06]]\n",
      "0067FU[[1.54112312e-06]]\n",
      "9998KY[[1.45144384e-06]]\n",
      "7867KI[[1.30309711e-06]]\n",
      "7685GI[[1.06025189e-06]]\n",
      "1716FU[[1.03451945e-06]]\n",
      "0068FU[[1.02606696e-06]]\n",
      "0068FU[[1.02606696e-06]]\n",
      "0068FU[[1.02606696e-06]]\n",
      "9996KY[[9.15392582e-07]]\n",
      "0079FU[[9.0366175e-07]]\n",
      "0079FU[[9.0366175e-07]]\n",
      "0079FU[[9.0366175e-07]]\n",
      "4637GI[[8.11733342e-07]]\n",
      "0072FU[[5.87952575e-07]]\n",
      "0072FU[[5.87952575e-07]]\n",
      "0072FU[[5.87952575e-07]]\n",
      "7868KI[[5.4879358e-07]]\n",
      "8877OU[[3.27108203e-07]]\n",
      "5868KI[[3.22197643e-07]]\n",
      "4857KA[[1.53501648e-07]]\n",
      "4884KA[[1.28458542e-07]]\n",
      "2526HI[[1.26412423e-07]]\n",
      "7675GI[[1.23100395e-07]]\n",
      "8997KE[[7.83898022e-08]]\n",
      "4839KA[[6.53891713e-08]]\n",
      "2515HI[[6.31101108e-08]]\n",
      "4893KA[[6.02191876e-08]]\n",
      "4837KA[[4.53914126e-08]]\n",
      "4826KA[[3.77818016e-08]]\n",
      "5859KI[[3.76160814e-08]]\n",
      "9997KY[[1.7628227e-08]]\n",
      "2527HI[[1.32951721e-08]]\n",
      "1918KY[[7.21621831e-09]]\n",
      "2322FU[[4.54731944e-09]]\n",
      "4815KA[[3.01290487e-09]]\n",
      "9594FU[[1.61033073e-09]]\n",
      "0069FU[[1.04059614e-09]]\n",
      "0069FU[[1.04059614e-09]]\n",
      "0069FU[[1.04059614e-09]]\n"
     ]
    }
   ],
   "source": [
    "for i in ind[::-1,0,0]:\n",
    "    print(moves[i]+str(result[i]))"
   ]
  },
  {
   "cell_type": "code",
   "execution_count": null,
   "id": "ded58413",
   "metadata": {},
   "outputs": [],
   "source": []
  }
 ],
 "metadata": {
  "kernelspec": {
   "display_name": "Python 3 (ipykernel)",
   "language": "python",
   "name": "python3"
  },
  "language_info": {
   "codemirror_mode": {
    "name": "ipython",
    "version": 3
   },
   "file_extension": ".py",
   "mimetype": "text/x-python",
   "name": "python",
   "nbconvert_exporter": "python",
   "pygments_lexer": "ipython3",
   "version": "3.9.12"
  }
 },
 "nbformat": 4,
 "nbformat_minor": 5
}
