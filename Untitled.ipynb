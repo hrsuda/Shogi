{
 "cells": [
  {
   "cell_type": "code",
   "execution_count": 1,
   "id": "86ce596a",
   "metadata": {},
   "outputs": [],
   "source": [
    "from shogi_2 import *"
   ]
  },
  {
   "cell_type": "code",
   "execution_count": 2,
   "id": "9752e83c",
   "metadata": {},
   "outputs": [],
   "source": [
    "p = Piece([0,0],True)"
   ]
  },
  {
   "cell_type": "code",
   "execution_count": null,
   "id": "86f55efb",
   "metadata": {},
   "outputs": [],
   "source": []
  }
 ],
 "metadata": {
  "kernelspec": {
   "display_name": "Python 3 (ipykernel)",
   "language": "python",
   "name": "python3"
  },
  "language_info": {
   "codemirror_mode": {
    "name": "ipython",
    "version": 3
   },
   "file_extension": ".py",
   "mimetype": "text/x-python",
   "name": "python",
   "nbconvert_exporter": "python",
   "pygments_lexer": "ipython3",
   "version": "3.9.12"
  }
 },
 "nbformat": 4,
 "nbformat_minor": 5
}
